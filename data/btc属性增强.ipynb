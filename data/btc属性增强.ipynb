{
 "cells": [
  {
   "cell_type": "code",
   "execution_count": 1,
   "metadata": {},
   "outputs": [],
   "source": [
    "import pandas as pd\n",
    "from tqdm import tqdm\n",
    "import talib"
   ]
  },
  {
   "cell_type": "code",
   "execution_count": 2,
   "metadata": {},
   "outputs": [],
   "source": [
    "df1 = pd.read_csv('BTC.csv')"
   ]
  },
  {
   "cell_type": "code",
   "execution_count": 3,
   "metadata": {},
   "outputs": [],
   "source": [
    " # 调用talib计算MACD指标\n",
    "df1['macd'], df1['macd_signal'], df1['macd_hist'] = talib.MACD(df1.close.values,fastperiod=12, slowperiod=26, signalperiod=9)   "
   ]
  },
  {
   "cell_type": "code",
   "execution_count": 4,
   "metadata": {},
   "outputs": [],
   "source": [
    "# 调用talib计算rsi与动量\n",
    "df1['rsi'] = talib.RSI(df1.close.values, timeperiod=12)     #RSI的天数一般是6、12、24\n",
    "df1['mom'] = talib.MOM(df1.close.values, timeperiod=5)"
   ]
  },
  {
   "cell_type": "code",
   "execution_count": 5,
   "metadata": {},
   "outputs": [],
   "source": [
    "df1['upperband'], df1['middleband'], df1['lowerband'] = talib.BBANDS(df1.close.values, timeperiod=5, nbdevup=2, nbdevdn=2, matype=0)"
   ]
  },
  {
   "cell_type": "code",
   "execution_count": 6,
   "metadata": {},
   "outputs": [],
   "source": [
    "# 希尔伯特变换\n",
    "df1['line1'] = talib.HT_TRENDLINE(df1.close.values)"
   ]
  },
  {
   "cell_type": "code",
   "execution_count": 7,
   "metadata": {},
   "outputs": [],
   "source": [
    "# KAMA考夫曼的自适应移动平均线\n",
    "df1['kama'] = talib.KAMA(df1.close.values, timeperiod=30)"
   ]
  },
  {
   "cell_type": "code",
   "execution_count": 8,
   "metadata": {},
   "outputs": [],
   "source": [
    "# SAR抛物线指标\n",
    "df1['sar'] = talib.SAR(df1.high.values, df1.low.values, acceleration=0, maximum=0)"
   ]
  },
  {
   "cell_type": "code",
   "execution_count": 9,
   "metadata": {},
   "outputs": [],
   "source": [
    "# CCI指标\n",
    "df1['cci'] = talib.CCI(df1.high.values, df1.low.values, df1.close.values, timeperiod=14)"
   ]
  },
  {
   "cell_type": "code",
   "execution_count": 10,
   "metadata": {},
   "outputs": [],
   "source": [
    "# KDJ中的KD指标\n",
    "df1['slowk'], df1['slowd'] = talib.STOCH(df1.high.values, df1.low.values, df1.close.values,\n",
    "                                         fastk_period=5, slowk_period=3, slowk_matype=0, slowd_period=3, slowd_matype=0)"
   ]
  },
  {
   "cell_type": "code",
   "execution_count": 11,
   "metadata": {},
   "outputs": [],
   "source": [
    "# ULTOSC终极波动指标\n",
    "# 一种多方位功能的指标，除了趋势确认及超买超卖方面的作用之外，它的“突破”讯号不仅可以提供最适当的交易时机之外，更可以进一步加强指标的可靠度。\n",
    "df1['ultosc'] = talib.ULTOSC(df1.high.values, df1.low.values, df1.close.values, timeperiod1=7, timeperiod2=14, timeperiod3=28)"
   ]
  },
  {
   "cell_type": "code",
   "execution_count": 12,
   "metadata": {},
   "outputs": [],
   "source": [
    "# WILLR威廉指标\n",
    "# 市场处于超买还是超卖状态。股票投资分析方法主要有如下三种：基本分析、技术分析、演化分析。在实际应用中，它们既相互联系，又有重要区别。\n",
    "df1['wtllr'] = talib.WILLR(df1.high.values, df1.low.values, df1.close.values, timeperiod=14)"
   ]
  },
  {
   "cell_type": "code",
   "execution_count": 13,
   "metadata": {},
   "outputs": [],
   "source": [
    "# AD累积/派发线\n",
    "# 平衡交易量指标，以当日的收盘价位来估算成交流量，用于估定一段时间内该证券累积的资金流量。\n",
    "df1['ad'] = talib.AD(df1.high.values, df1.low.values, df1.close.values, df1.volume.values)"
   ]
  },
  {
   "cell_type": "code",
   "execution_count": 14,
   "metadata": {},
   "outputs": [],
   "source": [
    "# ADOSC震荡指标\n",
    "df1['adosc'] = talib.ADOSC(df1.high.values, df1.low.values, df1.close.values, df1.volume.values, fastperiod=3, slowperiod=10)"
   ]
  },
  {
   "cell_type": "code",
   "execution_count": 15,
   "metadata": {},
   "outputs": [],
   "source": [
    "# OBV能量潮\n",
    "# 通过统计成交量变动的趋势推测股价趋势\n",
    "df1['obv'] = talib.OBV(df1.close.values, df1.volume.values)"
   ]
  },
  {
   "cell_type": "code",
   "execution_count": 16,
   "metadata": {},
   "outputs": [],
   "source": [
    "# ATR真实波动幅度均值\n",
    "# 以 N 天的指数移动平均数平均後的交易波动幅度。\n",
    "df1['atr'] = talib.ATR(df1.high.values, df1.low.values, df1.close.values, timeperiod=14)"
   ]
  },
  {
   "cell_type": "code",
   "execution_count": 17,
   "metadata": {},
   "outputs": [],
   "source": [
    "# HT_DCPERIOD希尔伯特变换-主导周期\n",
    "# 将价格作为信息信号，计算价格处在的周期的位置，作为择时的依据。\n",
    "df1['line2'] = talib.HT_DCPERIOD(df1.close.values)"
   ]
  },
  {
   "cell_type": "code",
   "execution_count": 18,
   "metadata": {},
   "outputs": [],
   "source": [
    "# HT_DCPHASE希尔伯特变换-主导循环阶段\n",
    "df1['line3'] = talib.HT_DCPHASE(df1.close.values)"
   ]
  },
  {
   "cell_type": "code",
   "execution_count": 19,
   "metadata": {},
   "outputs": [],
   "source": [
    "# HT_ PHASOR希尔伯特变换-希尔伯特变换相量分量\n",
    "df1['inphase'], df1['quadrature'] = talib.HT_PHASOR(df1.close.values)"
   ]
  },
  {
   "cell_type": "code",
   "execution_count": 20,
   "metadata": {},
   "outputs": [],
   "source": [
    "# HT_ SINE希尔伯特变换-正弦波\n",
    "df1['sine'], df1['leadsine'] = talib.HT_SINE(df1.close.values)"
   ]
  },
  {
   "cell_type": "code",
   "execution_count": 21,
   "metadata": {},
   "outputs": [
    {
     "data": {
      "text/plain": [
       "(239444, 32)"
      ]
     },
     "execution_count": 21,
     "metadata": {},
     "output_type": "execute_result"
    }
   ],
   "source": [
    "df1.shape"
   ]
  },
  {
   "cell_type": "code",
   "execution_count": 22,
   "metadata": {},
   "outputs": [
    {
     "data": {
      "text/html": [
       "<div>\n",
       "<style scoped>\n",
       "    .dataframe tbody tr th:only-of-type {\n",
       "        vertical-align: middle;\n",
       "    }\n",
       "\n",
       "    .dataframe tbody tr th {\n",
       "        vertical-align: top;\n",
       "    }\n",
       "\n",
       "    .dataframe thead th {\n",
       "        text-align: right;\n",
       "    }\n",
       "</style>\n",
       "<table border=\"1\" class=\"dataframe\">\n",
       "  <thead>\n",
       "    <tr style=\"text-align: right;\">\n",
       "      <th></th>\n",
       "      <th>date_time</th>\n",
       "      <th>open</th>\n",
       "      <th>high</th>\n",
       "      <th>low</th>\n",
       "      <th>close</th>\n",
       "      <th>volume</th>\n",
       "      <th>macd</th>\n",
       "      <th>macd_signal</th>\n",
       "      <th>macd_hist</th>\n",
       "      <th>rsi</th>\n",
       "      <th>...</th>\n",
       "      <th>ad</th>\n",
       "      <th>adosc</th>\n",
       "      <th>obv</th>\n",
       "      <th>atr</th>\n",
       "      <th>line2</th>\n",
       "      <th>line3</th>\n",
       "      <th>inphase</th>\n",
       "      <th>quadrature</th>\n",
       "      <th>sine</th>\n",
       "      <th>leadsine</th>\n",
       "    </tr>\n",
       "  </thead>\n",
       "  <tbody>\n",
       "    <tr>\n",
       "      <th>239439</th>\n",
       "      <td>2020-11-06 06:00:00</td>\n",
       "      <td>15240.2</td>\n",
       "      <td>15287.5</td>\n",
       "      <td>15212.0</td>\n",
       "      <td>15267.7</td>\n",
       "      <td>159.704489</td>\n",
       "      <td>77.362547</td>\n",
       "      <td>66.363647</td>\n",
       "      <td>10.998900</td>\n",
       "      <td>69.183432</td>\n",
       "      <td>...</td>\n",
       "      <td>194963.090099</td>\n",
       "      <td>145.909123</td>\n",
       "      <td>-9430.928364</td>\n",
       "      <td>92.293431</td>\n",
       "      <td>16.773044</td>\n",
       "      <td>178.294629</td>\n",
       "      <td>12.008944</td>\n",
       "      <td>20.483215</td>\n",
       "      <td>0.029760</td>\n",
       "      <td>-0.685750</td>\n",
       "    </tr>\n",
       "    <tr>\n",
       "      <th>239440</th>\n",
       "      <td>2020-11-06 06:15:00</td>\n",
       "      <td>15269.5</td>\n",
       "      <td>15546.8</td>\n",
       "      <td>15250.0</td>\n",
       "      <td>15412.0</td>\n",
       "      <td>539.229705</td>\n",
       "      <td>92.117191</td>\n",
       "      <td>71.514356</td>\n",
       "      <td>20.602835</td>\n",
       "      <td>76.644175</td>\n",
       "      <td>...</td>\n",
       "      <td>195012.507377</td>\n",
       "      <td>150.978313</td>\n",
       "      <td>-8891.698659</td>\n",
       "      <td>106.901043</td>\n",
       "      <td>16.730833</td>\n",
       "      <td>182.603183</td>\n",
       "      <td>30.070583</td>\n",
       "      <td>90.853588</td>\n",
       "      <td>-0.045418</td>\n",
       "      <td>-0.738493</td>\n",
       "    </tr>\n",
       "    <tr>\n",
       "      <th>239441</th>\n",
       "      <td>2020-11-06 06:30:00</td>\n",
       "      <td>15418.9</td>\n",
       "      <td>15476.2</td>\n",
       "      <td>15367.3</td>\n",
       "      <td>15439.1</td>\n",
       "      <td>171.269832</td>\n",
       "      <td>104.789153</td>\n",
       "      <td>78.169315</td>\n",
       "      <td>26.619837</td>\n",
       "      <td>77.747898</td>\n",
       "      <td>...</td>\n",
       "      <td>195067.080960</td>\n",
       "      <td>156.691093</td>\n",
       "      <td>-8720.428827</td>\n",
       "      <td>107.043826</td>\n",
       "      <td>16.896435</td>\n",
       "      <td>181.044586</td>\n",
       "      <td>89.395529</td>\n",
       "      <td>102.167543</td>\n",
       "      <td>-0.018230</td>\n",
       "      <td>-0.719880</td>\n",
       "    </tr>\n",
       "    <tr>\n",
       "      <th>239442</th>\n",
       "      <td>2020-11-06 06:45:00</td>\n",
       "      <td>15439.1</td>\n",
       "      <td>15600.0</td>\n",
       "      <td>15437.5</td>\n",
       "      <td>15574.0</td>\n",
       "      <td>240.498045</td>\n",
       "      <td>124.284402</td>\n",
       "      <td>87.392333</td>\n",
       "      <td>36.892070</td>\n",
       "      <td>82.292148</td>\n",
       "      <td>...</td>\n",
       "      <td>195230.619630</td>\n",
       "      <td>196.818526</td>\n",
       "      <td>-8479.930782</td>\n",
       "      <td>111.004981</td>\n",
       "      <td>17.275905</td>\n",
       "      <td>173.407829</td>\n",
       "      <td>113.894008</td>\n",
       "      <td>40.866676</td>\n",
       "      <td>0.114801</td>\n",
       "      <td>-0.621255</td>\n",
       "    </tr>\n",
       "    <tr>\n",
       "      <th>239443</th>\n",
       "      <td>2020-11-06 07:00:00</td>\n",
       "      <td>15572.7</td>\n",
       "      <td>15782.3</td>\n",
       "      <td>15503.0</td>\n",
       "      <td>15755.9</td>\n",
       "      <td>292.003636</td>\n",
       "      <td>152.652653</td>\n",
       "      <td>100.444397</td>\n",
       "      <td>52.208256</td>\n",
       "      <td>86.382769</td>\n",
       "      <td>...</td>\n",
       "      <td>195467.421720</td>\n",
       "      <td>270.687820</td>\n",
       "      <td>-8187.927146</td>\n",
       "      <td>123.026054</td>\n",
       "      <td>17.899812</td>\n",
       "      <td>167.763967</td>\n",
       "      <td>103.990718</td>\n",
       "      <td>23.131201</td>\n",
       "      <td>0.211939</td>\n",
       "      <td>-0.541179</td>\n",
       "    </tr>\n",
       "  </tbody>\n",
       "</table>\n",
       "<p>5 rows × 32 columns</p>\n",
       "</div>"
      ],
      "text/plain": [
       "                  date_time     open     high      low    close      volume  \\\n",
       "239439  2020-11-06 06:00:00  15240.2  15287.5  15212.0  15267.7  159.704489   \n",
       "239440  2020-11-06 06:15:00  15269.5  15546.8  15250.0  15412.0  539.229705   \n",
       "239441  2020-11-06 06:30:00  15418.9  15476.2  15367.3  15439.1  171.269832   \n",
       "239442  2020-11-06 06:45:00  15439.1  15600.0  15437.5  15574.0  240.498045   \n",
       "239443  2020-11-06 07:00:00  15572.7  15782.3  15503.0  15755.9  292.003636   \n",
       "\n",
       "              macd  macd_signal  macd_hist        rsi  ...             ad  \\\n",
       "239439   77.362547    66.363647  10.998900  69.183432  ...  194963.090099   \n",
       "239440   92.117191    71.514356  20.602835  76.644175  ...  195012.507377   \n",
       "239441  104.789153    78.169315  26.619837  77.747898  ...  195067.080960   \n",
       "239442  124.284402    87.392333  36.892070  82.292148  ...  195230.619630   \n",
       "239443  152.652653   100.444397  52.208256  86.382769  ...  195467.421720   \n",
       "\n",
       "             adosc          obv         atr      line2       line3  \\\n",
       "239439  145.909123 -9430.928364   92.293431  16.773044  178.294629   \n",
       "239440  150.978313 -8891.698659  106.901043  16.730833  182.603183   \n",
       "239441  156.691093 -8720.428827  107.043826  16.896435  181.044586   \n",
       "239442  196.818526 -8479.930782  111.004981  17.275905  173.407829   \n",
       "239443  270.687820 -8187.927146  123.026054  17.899812  167.763967   \n",
       "\n",
       "           inphase  quadrature      sine  leadsine  \n",
       "239439   12.008944   20.483215  0.029760 -0.685750  \n",
       "239440   30.070583   90.853588 -0.045418 -0.738493  \n",
       "239441   89.395529  102.167543 -0.018230 -0.719880  \n",
       "239442  113.894008   40.866676  0.114801 -0.621255  \n",
       "239443  103.990718   23.131201  0.211939 -0.541179  \n",
       "\n",
       "[5 rows x 32 columns]"
      ]
     },
     "execution_count": 22,
     "metadata": {},
     "output_type": "execute_result"
    }
   ],
   "source": [
    "df1.tail()"
   ]
  },
  {
   "cell_type": "code",
   "execution_count": 23,
   "metadata": {},
   "outputs": [],
   "source": [
    "df1.to_csv('btc.gz', index=False, compression='gzip')"
   ]
  },
  {
   "cell_type": "code",
   "execution_count": null,
   "metadata": {},
   "outputs": [],
   "source": []
  }
 ],
 "metadata": {
  "kernelspec": {
   "display_name": "Python 3",
   "language": "python",
   "name": "python3"
  },
  "language_info": {
   "codemirror_mode": {
    "name": "ipython",
    "version": 3
   },
   "file_extension": ".py",
   "mimetype": "text/x-python",
   "name": "python",
   "nbconvert_exporter": "python",
   "pygments_lexer": "ipython3",
   "version": "3.8.5"
  }
 },
 "nbformat": 4,
 "nbformat_minor": 4
}
